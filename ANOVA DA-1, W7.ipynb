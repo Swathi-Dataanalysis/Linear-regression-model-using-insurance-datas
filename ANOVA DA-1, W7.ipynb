{
 "cells": [
  {
   "cell_type": "markdown",
   "metadata": {},
   "source": [
    "To perform a one-way ANOVA on the Abalone dataset to determine if there are statistically significant differences in abalone age among the gender categories, we are loading & preprocessing the data. "
   ]
  },
  {
   "cell_type": "code",
   "execution_count": 2,
   "metadata": {},
   "outputs": [
    {
     "name": "stdout",
     "output_type": "stream",
     "text": [
      "Data Exploration:\n",
      "  Sex  Length  Diameter  Height  Whole_weight  Shucked_weight  Viscera_weight  \\\n",
      "0   M   0.350     0.265   0.090        0.2255          0.0995          0.0485   \n",
      "1   F   0.530     0.420   0.135        0.6770          0.2565          0.1415   \n",
      "2   M   0.440     0.365   0.125        0.5160          0.2155          0.1140   \n",
      "3   I   0.330     0.255   0.080        0.2050          0.0895          0.0395   \n",
      "4   I   0.425     0.300   0.095        0.3515          0.1410          0.0775   \n",
      "\n",
      "   Shell_weight  Rings  \n",
      "0         0.070      7  \n",
      "1         0.210      9  \n",
      "2         0.155     10  \n",
      "3         0.055      7  \n",
      "4         0.120      8  \n",
      "\n",
      "Summary Statistics:\n",
      "            Length     Diameter       Height  Whole_weight  Shucked_weight  \\\n",
      "count  4176.000000  4176.000000  4176.000000   4176.000000      4176.00000   \n",
      "mean      0.524009     0.407892     0.139527      0.828818         0.35940   \n",
      "std       0.120103     0.099250     0.041826      0.490424         0.22198   \n",
      "min       0.075000     0.055000     0.000000      0.002000         0.00100   \n",
      "25%       0.450000     0.350000     0.115000      0.441500         0.18600   \n",
      "50%       0.545000     0.425000     0.140000      0.799750         0.33600   \n",
      "75%       0.615000     0.480000     0.165000      1.153250         0.50200   \n",
      "max       0.815000     0.650000     1.130000      2.825500         1.48800   \n",
      "\n",
      "       Viscera_weight  Shell_weight        Rings  \n",
      "count     4176.000000   4176.000000  4176.000000  \n",
      "mean         0.180613      0.238852     9.932471  \n",
      "std          0.109620      0.139213     3.223601  \n",
      "min          0.000500      0.001500     1.000000  \n",
      "25%          0.093375      0.130000     8.000000  \n",
      "50%          0.171000      0.234000     9.000000  \n",
      "75%          0.253000      0.329000    11.000000  \n",
      "max          0.760000      1.005000    29.000000  \n"
     ]
    },
    {
     "data": {
      "image/png": "[encoded data removed]",
      "text/plain": [
       "<Figure size 1000x600 with 1 Axes>"
      ]
     },
     "metadata": {},
     "output_type": "display_data"
    },
    {
     "name": "stdout",
     "output_type": "stream",
     "text": [
      "\n",
      "One-way ANOVA Results:\n",
      "F-statistic: 499.05\n",
      "P-value: 0.0000\n",
      "There is a statistically significant difference in abalone age among sex categories.\n"
     ]
    }
   ],
   "source": [
    "import pandas as pd\n",
    "import matplotlib.pyplot as plt\n",
    "import seaborn as sns\n",
    "from scipy.stats import f_oneway\n",
    "\n",
    "# Load the Abalone dataset (replace 'abalone.csv' with the actual file path)\n",
    "df = pd.read_csv('abalone.data')\n",
    "\n",
    "# Adding column names to the respective columns\n",
    "df.columns = ['Sex', 'Length', 'Diameter', 'Height', 'Whole_weight', 'Shucked_weight',\n",
    "                'Viscera_weight', 'Shell_weight', 'Rings']\n",
    "\n",
    "# Data Preprocessing\n",
    "# Let's start by exploring the dataset and understanding its structure\n",
    "print(\"Data Exploration:\")\n",
    "print(df.head())  # Display the first few rows\n",
    "\n",
    "# Summary statistics\n",
    "print(\"\\nSummary Statistics:\")\n",
    "print(df.describe())\n",
    "\n",
    "# Data Visualization\n",
    "# Visualize the distribution of rings (age approximation) by sex\n",
    "plt.figure(figsize=(10, 6))\n",
    "sns.boxplot(x='Sex', y='Rings', data=df)\n",
    "plt.title('Age Distribution by Sex')\n",
    "plt.show()\n",
    "\n",
    "# One-way ANOVA\n",
    "# Perform the one-way ANOVA to test for differences in age among sex categories\n",
    "sex_groups = [group['Rings'] for name, group in df.groupby('Sex')]\n",
    "f_statistic, p_value = f_oneway(*sex_groups)\n",
    "\n",
    "# Interpret the ANOVA results\n",
    "print(\"\\nOne-way ANOVA Results:\")\n",
    "print(f\"F-statistic: {f_statistic:.2f}\")\n",
    "print(f\"P-value: {p_value:.4f}\")\n",
    "\n",
    "# Determine significance based on p-value\n",
    "alpha = 0.05\n",
    "if p_value < alpha:\n",
    "    print(\"There is a statistically significant difference in abalone age among sex categories.\")\n",
    "else:\n",
    "    print(\"There is no statistically significant difference in abalone age among sex categories.\")\n"
   ]
  },
  {
   "cell_type": "markdown",
   "metadata": {},
   "source": [
    "\n",
    "To conduct a linear regression analysis on the Abalone dataset, we'll use the 'Rings' column as the dependent variable to predict abalone age based on the physical characteristics"
   ]
  },
  {
   "cell_type": "code",
   "execution_count": 7,
   "metadata": {},
   "outputs": [
    {
     "name": "stdout",
     "output_type": "stream",
     "text": [
      "                            OLS Regression Results                            \n",
      "==============================================================================\n",
      "Dep. Variable:                  Rings   R-squared:                       0.538\n",
      "Model:                            OLS   Adj. R-squared:                  0.537\n",
      "Method:                 Least Squares   F-statistic:                     539.9\n",
      "Date:                Sat, 04 Nov 2023   Prob (F-statistic):               0.00\n",
      "Time:                        11:12:50   Log-Likelihood:                -9198.9\n",
      "No. Observations:                4176   AIC:                         1.842e+04\n",
      "Df Residuals:                    4166   BIC:                         1.848e+04\n",
      "Df Model:                           9                                         \n",
      "Covariance Type:            nonrobust                                         \n",
      "==================================================================================\n",
      "                     coef    std err          t      P>|t|      [0.025      0.975]\n",
      "----------------------------------------------------------------------------------\n",
      "const              2.7245      0.207     13.172      0.000       2.319       3.130\n",
      "Length            -0.4081      1.808     -0.226      0.821      -3.953       3.136\n",
      "Diameter          10.9903      2.226      4.937      0.000       6.626      15.354\n",
      "Height            10.8351      1.535      7.057      0.000       7.825      13.845\n",
      "Whole_weight       8.9698      0.725     12.374      0.000       7.549      10.391\n",
      "Shucked_weight   -19.7827      0.817    -24.221      0.000     -21.384     -18.181\n",
      "Viscera_weight   -10.5596      1.293     -8.168      0.000     -13.094      -8.025\n",
      "Shell_weight       8.7509      1.124      7.786      0.000       6.547      10.954\n",
      "Sex_F              1.1642      0.095     12.204      0.000       0.977       1.351\n",
      "Sex_I              0.3419      0.079      4.338      0.000       0.187       0.496\n",
      "Sex_M              1.2184      0.088     13.791      0.000       1.045       1.392\n",
      "==============================================================================\n",
      "Omnibus:                      947.640   Durbin-Watson:                   1.436\n",
      "Prob(Omnibus):                  0.000   Jarque-Bera (JB):             2723.264\n",
      "Skew:                           1.180   Prob(JB):                         0.00\n",
      "Kurtosis:                       6.175   Cond. No.                     1.97e+15\n",
      "==============================================================================\n",
      "\n",
      "Notes:\n",
      "[1] Standard Errors assume that the covariance matrix of the errors is correctly specified.\n",
      "[2] The smallest eigenvalue is 3.1e-27. This might indicate that there are\n",
      "strong multicollinearity problems or that the design matrix is singular.\n"
     ]
    }
   ],
   "source": [
    "import pandas as pd\n",
    "import statsmodels.api as sm\n",
    "\n",
    "# Load the Abalone dataset (replace 'abalone.csv' with the actual file path)\n",
    "df = pd.read_csv('abalone.data')\n",
    "\n",
    "# Adding column names to the respective columns\n",
    "df.columns = ['Sex', 'Length', 'Diameter', 'Height', 'Whole_weight', 'Shucked_weight',\n",
    "              'Viscera_weight', 'Shell_weight', 'Rings']\n",
    "\n",
    "# Data Preprocessing\n",
    "# Create dummy variables for the 'Sex' column without dropping the first category\n",
    "df = pd.get_dummies(df, columns=['Sex'], drop_first=False)\n",
    "\n",
    "# Define the independent variables (predictors) and the dependent variable\n",
    "X = df[['Length', 'Diameter', 'Height', 'Whole_weight', 'Shucked_weight', 'Viscera_weight', 'Shell_weight', 'Sex_F', 'Sex_I', 'Sex_M']]\n",
    "y = df['Rings']\n",
    "\n",
    "# Add a constant for the intercept term\n",
    "X = sm.add_constant(X)\n",
    "\n",
    "# Fit the multiple linear regression model\n",
    "model = sm.OLS(y.astype(float), X.astype(float)).fit()\n",
    "\n",
    "# Print the regression summary\n",
    "print(model.summary())\n"
   ]
  },
  {
   "cell_type": "markdown",
   "metadata": {},
   "source": [
    "R-squared: The R-squared value of 0.538 indicates that the model explains approximately 53.8% of the variance in the dependent variable (Rings), which suggests a moderate fit.\n",
    "F-statistic: The F-statistic of 539.9 with a low p-value (0.00) indicates that the overall model is statistically significant.\n",
    "Coefficients: The coefficients represent the relationship between each independent variable and the dependent variable. For example, the 'Diameter' variable has a coefficient of approximately 10.9903. This means that a one-unit increase in 'Diameter' results in an approximately 10.99-unit increase in 'Rings,' holding other variables constant.\n",
    "P-values: The p-values associated with each coefficient indicate the statistical significance of each independent variable. For instance, the 'Sex_M' variable has a high p-value (0.515), suggesting that it is not statistically significant in predicting 'Rings.'\n",
    "Adjusted R-squared: The adjusted R-squared value (0.537) takes into account the number of predictors and is slightly lower than the R-squared value, which is expected when adding more predictors to the model.\n",
    "Standard Errors: These represent the standard deviation of the sampling distribution of the coefficients.\n",
    "T-statistics: The t-statistics measure the number of standard errors the coefficient is away from zero.\n",
    "Confidence Intervals: The confidence intervals show the range within which the true population parameters are likely to fall.\n",
    "In summary, this regression model suggests that variables like 'Diameter,' 'Height,' 'Whole_weight,' 'Shucked_weight,' and 'Viscera_weight' have a significant impact on predicting the number of 'Rings' (which can be used to approximate abalone age). The 'Sex_M' variable, however, does not seem to be statistically significant."
   ]
  }
 ],
 "metadata": {
  "kernelspec": {
   "display_name": "Python 3",
   "language": "python",
   "name": "python3"
  },
  "language_info": {
   "codemirror_mode": {
    "name": "ipython",
    "version": 3
   },
   "file_extension": ".py",
   "mimetype": "text/x-python",
   "name": "python",
   "nbconvert_exporter": "python",
   "pygments_lexer": "ipython3",
   "version": "3.11.5"
  }
 },
 "nbformat": 4,
 "nbformat_minor": 2
}
